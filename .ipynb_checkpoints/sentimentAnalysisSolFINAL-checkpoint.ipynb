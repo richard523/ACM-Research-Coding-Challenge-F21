{
 "cells": [
  {
   "cell_type": "code",
   "execution_count": 1,
   "metadata": {},
   "outputs": [
    {
     "name": "stdout",
     "output_type": "stream",
     "text": [
      "Looking in links: https://download.pytorch.org/whl/torch_stable.html\n",
      "Requirement already satisfied: torch==1.9.0+cu111 in c:\\users\\rgatc\\anaconda3\\lib\\site-packages (1.9.0+cu111)\n",
      "Requirement already satisfied: torchvision==0.10.0+cu111 in c:\\users\\rgatc\\anaconda3\\lib\\site-packages (0.10.0+cu111)\n",
      "Requirement already satisfied: torchaudio===0.9.0 in c:\\users\\rgatc\\anaconda3\\lib\\site-packages (0.9.0)\n",
      "Requirement already satisfied: dataclasses in c:\\users\\rgatc\\appdata\\roaming\\python\\python36\\site-packages (from torch==1.9.0+cu111) (0.8)\n",
      "Requirement already satisfied: typing-extensions in c:\\users\\rgatc\\appdata\\roaming\\python\\python36\\site-packages (from torch==1.9.0+cu111) (3.10.0.2)\n",
      "Requirement already satisfied: numpy in c:\\users\\rgatc\\anaconda3\\lib\\site-packages (from torchvision==0.10.0+cu111) (1.19.5)\n",
      "Requirement already satisfied: pillow>=5.3.0 in c:\\users\\rgatc\\anaconda3\\lib\\site-packages (from torchvision==0.10.0+cu111) (8.3.2)\n"
     ]
    },
    {
     "name": "stderr",
     "output_type": "stream",
     "text": [
      "WARNING: You are using pip version 21.0.1; however, version 21.2.4 is available.\n",
      "You should consider upgrading via the 'c:\\users\\rgatc\\anaconda3\\python.exe -m pip install --upgrade pip' command.\n"
     ]
    }
   ],
   "source": [
    "!pip install torch==1.9.0+cu111 torchvision==0.10.0+cu111 torchaudio===0.9.0 -f https://download.pytorch.org/whl/torch_stable.html\n"
   ]
  },
  {
   "cell_type": "code",
   "execution_count": 2,
   "metadata": {},
   "outputs": [
    {
     "name": "stdout",
     "output_type": "stream",
     "text": [
      "Requirement already satisfied: transformers in c:\\users\\rgatc\\appdata\\roaming\\python\\python36\\site-packages (4.10.0)\n",
      "Requirement already satisfied: requests in c:\\users\\rgatc\\anaconda3\\lib\\site-packages (2.18.4)\n",
      "Requirement already satisfied: beautifulsoup4 in c:\\users\\rgatc\\anaconda3\\lib\\site-packages (4.6.0)\n",
      "Requirement already satisfied: pandas in c:\\users\\rgatc\\anaconda3\\lib\\site-packages (0.23.0)\n",
      "Requirement already satisfied: numpy in c:\\users\\rgatc\\anaconda3\\lib\\site-packages (1.19.5)\n",
      "Requirement already satisfied: python-dateutil>=2.5.0 in c:\\users\\rgatc\\anaconda3\\lib\\site-packages (from pandas) (2.8.1)\n",
      "Requirement already satisfied: pytz>=2011k in c:\\users\\rgatc\\anaconda3\\lib\\site-packages (from pandas) (2018.4)\n",
      "Requirement already satisfied: six>=1.5 in c:\\users\\rgatc\\anaconda3\\lib\\site-packages (from python-dateutil>=2.5.0->pandas) (1.11.0)\n",
      "Requirement already satisfied: chardet<3.1.0,>=3.0.2 in c:\\users\\rgatc\\anaconda3\\lib\\site-packages (from requests) (3.0.4)\n",
      "Requirement already satisfied: idna<2.7,>=2.5 in c:\\users\\rgatc\\anaconda3\\lib\\site-packages (from requests) (2.6)\n",
      "Requirement already satisfied: urllib3<1.23,>=1.21.1 in c:\\users\\rgatc\\anaconda3\\lib\\site-packages (from requests) (1.22)\n",
      "Requirement already satisfied: certifi>=2017.4.17 in c:\\users\\rgatc\\anaconda3\\lib\\site-packages (from requests) (2021.5.30)\n",
      "Requirement already satisfied: importlib-metadata in c:\\users\\rgatc\\appdata\\roaming\\python\\python36\\site-packages (from transformers) (4.8.1)\n",
      "Requirement already satisfied: huggingface-hub>=0.0.12 in c:\\users\\rgatc\\appdata\\roaming\\python\\python36\\site-packages (from transformers) (0.0.16)\n",
      "Requirement already satisfied: dataclasses in c:\\users\\rgatc\\appdata\\roaming\\python\\python36\\site-packages (from transformers) (0.8)\n",
      "Requirement already satisfied: sacremoses in c:\\users\\rgatc\\appdata\\roaming\\python\\python36\\site-packages (from transformers) (0.0.45)\n",
      "Requirement already satisfied: tokenizers<0.11,>=0.10.1 in c:\\users\\rgatc\\appdata\\roaming\\python\\python36\\site-packages (from transformers) (0.10.3)\n",
      "Requirement already satisfied: filelock in c:\\users\\rgatc\\anaconda3\\lib\\site-packages (from transformers) (3.0.4)\n",
      "Requirement already satisfied: packaging in c:\\users\\rgatc\\anaconda3\\lib\\site-packages (from transformers) (21.0)\n",
      "Requirement already satisfied: tqdm>=4.27 in c:\\users\\rgatc\\appdata\\roaming\\python\\python36\\site-packages (from transformers) (4.62.2)\n",
      "Requirement already satisfied: regex!=2019.12.17 in c:\\users\\rgatc\\appdata\\roaming\\python\\python36\\site-packages (from transformers) (2021.8.28)\n",
      "Requirement already satisfied: pyyaml>=5.1 in c:\\users\\rgatc\\appdata\\roaming\\python\\python36\\site-packages (from transformers) (5.4.1)\n",
      "Requirement already satisfied: typing-extensions in c:\\users\\rgatc\\appdata\\roaming\\python\\python36\\site-packages (from huggingface-hub>=0.0.12->transformers) (3.10.0.2)\n",
      "Requirement already satisfied: pyparsing>=2.0.2 in c:\\users\\rgatc\\anaconda3\\lib\\site-packages (from packaging->transformers) (2.2.0)\n",
      "Requirement already satisfied: colorama in c:\\users\\rgatc\\anaconda3\\lib\\site-packages (from tqdm>=4.27->transformers) (0.3.9)\n",
      "Requirement already satisfied: zipp>=0.5 in c:\\users\\rgatc\\appdata\\roaming\\python\\python36\\site-packages (from importlib-metadata->transformers) (3.5.0)\n",
      "Requirement already satisfied: click in c:\\users\\rgatc\\anaconda3\\lib\\site-packages (from sacremoses->transformers) (6.7)\n",
      "Requirement already satisfied: joblib in c:\\users\\rgatc\\appdata\\roaming\\python\\python36\\site-packages (from sacremoses->transformers) (1.0.1)\n"
     ]
    },
    {
     "name": "stderr",
     "output_type": "stream",
     "text": [
      "WARNING: You are using pip version 21.0.1; however, version 21.2.4 is available.\n",
      "You should consider upgrading via the 'c:\\users\\rgatc\\anaconda3\\python.exe -m pip install --upgrade pip' command.\n"
     ]
    }
   ],
   "source": [
    "!pip install transformers requests beautifulsoup4 pandas numpy"
   ]
  },
  {
   "cell_type": "code",
   "execution_count": 110,
   "metadata": {},
   "outputs": [],
   "source": [
    "from transformers import AutoTokenizer, AutoModelForSequenceClassification\n",
    "import torch\n",
    "import requests\n",
    "from bs4 import BeautifulSoup\n",
    "import re\n"
   ]
  },
  {
   "cell_type": "code",
   "execution_count": 111,
   "metadata": {},
   "outputs": [
    {
     "data": {
      "text/plain": [
       "\"\\nSample code from tutorial\\ntokens = tokenizer.encode('blah blah blah', return_tensors='pt')\\ntokens[0]\\ntokenizer.decode(tokens[0])\\nresult = model(tokens)\\nresult\\n\""
      ]
     },
     "execution_count": 111,
     "metadata": {},
     "output_type": "execute_result"
    }
   ],
   "source": [
    "tokenizer = AutoTokenizer.from_pretrained(\"nlptown/bert-base-multilingual-uncased-sentiment\")\n",
    "model = AutoModelForSequenceClassification.from_pretrained(\"nlptown/bert-base-multilingual-uncased-sentiment\")\n",
    "\n",
    "# \"\"\"\n",
    "# Sample code from tutorial\n",
    "# tokens = tokenizer.encode('blah blah blah', return_tensors='pt')\n",
    "# tokens[0]\n",
    "# tokenizer.decode(tokens[0])\n",
    "# result = model(tokens)\n",
    "# result\n",
    "# \"\"\"\n"
   ]
  },
  {
   "cell_type": "code",
   "execution_count": 112,
   "metadata": {},
   "outputs": [],
   "source": [
    "### CODE / API IN JUPYTER NOTEBOOK FROM ENTRIES 1 TO 5 COME FROM \n",
    "### https://www.youtube.com/watch?v=szczpgOEdXs\n",
    "### and \n",
    "### https://huggingface.co/nlptown/bert-base-multilingual-uncased-sentiment"
   ]
  },
  {
   "cell_type": "code",
   "execution_count": 113,
   "metadata": {
    "scrolled": true
   },
   "outputs": [],
   "source": [
    "import sys\n",
    "import os\n",
    "# (run)\n",
    "with open(f\"{os.getcwd()}\\\\input.txt\", 'r+', encoding='utf-8') as f:\n",
    "        raw_text = f.read()\n",
    "\n"
   ]
  },
  {
   "cell_type": "code",
   "execution_count": 114,
   "metadata": {},
   "outputs": [],
   "source": [
    "import nltk #may need installation\n",
    "from nltk.corpus import stopwords\n",
    "from nltk.tokenize import sent_tokenize, word_tokenize\n",
    "from nltk.tokenize import RegexpTokenizer\n",
    "import re\n",
    "\n",
    "\n",
    "# Tokenized all words\n",
    "# removed punctuation in words section\n",
    "\n",
    "\n",
    "# Keep context and punctuation in sentence tokens\n",
    "\n",
    "\n",
    "#did not include paragraph separation for such small body of text\n",
    "\n",
    "def process_and_tokenize(raw_text):\n",
    "    #remove punct and tokenize for words\n",
    "    raw_text_w = re.sub(r'[\\n\\t\\xa0\\'\\\"0-9()\\[\\]®,.:;^#/“”!]', \"\", raw_text.lower())\n",
    "    all_word_tokens = word_tokenize(raw_text_w)\n",
    "    \n",
    "    #tokenize into sentences then remove punct\n",
    "    all_sent_tokens = sent_tokenize(raw_text)\n",
    "    \n",
    "    \n",
    "    #remove stop words\n",
    "    stop_words = set(stopwords.words('english'))\n",
    "    word_toks = [t for t in all_word_tokens if t not in stop_words]\n",
    "    sent_toks = [t for t in all_sent_tokens if t not in stop_words]\n",
    "    \n",
    "    return word_toks, sent_toks\n",
    "    "
   ]
  },
  {
   "cell_type": "code",
   "execution_count": 123,
   "metadata": {
    "scrolled": true
   },
   "outputs": [
    {
     "name": "stdout",
     "output_type": "stream",
     "text": [
      "stop\n"
     ]
    }
   ],
   "source": [
    "word_toks, sent_toks = process_and_tokenize(raw_text)\n",
    "print(word_toks[0])\n"
   ]
  },
  {
   "cell_type": "code",
   "execution_count": 126,
   "metadata": {},
   "outputs": [
    {
     "ename": "TypeError",
     "evalue": "'int' object is not iterable",
     "output_type": "error",
     "traceback": [
      "\u001b[1;31m---------------------------------------------------------------------------\u001b[0m",
      "\u001b[1;31mTypeError\u001b[0m                                 Traceback (most recent call last)",
      "\u001b[1;32m<ipython-input-126-2840b21840dc>\u001b[0m in \u001b[0;36m<module>\u001b[1;34m()\u001b[0m\n\u001b[0;32m      3\u001b[0m \u001b[1;33m\u001b[0m\u001b[0m\n\u001b[0;32m      4\u001b[0m \u001b[1;31m# redundant tokenization\u001b[0m\u001b[1;33m\u001b[0m\u001b[1;33m\u001b[0m\u001b[0m\n\u001b[1;32m----> 5\u001b[1;33m \u001b[1;32mfor\u001b[0m \u001b[0mword\u001b[0m \u001b[1;32min\u001b[0m \u001b[0mlen\u001b[0m\u001b[1;33m(\u001b[0m\u001b[0mword_toks\u001b[0m\u001b[1;33m)\u001b[0m\u001b[1;33m:\u001b[0m\u001b[1;33m\u001b[0m\u001b[0m\n\u001b[0m\u001b[0;32m      6\u001b[0m     \u001b[0mprint\u001b[0m\u001b[1;33m(\u001b[0m\u001b[0mword_toks\u001b[0m\u001b[1;33m[\u001b[0m\u001b[0mword\u001b[0m\u001b[1;33m]\u001b[0m\u001b[1;33m)\u001b[0m\u001b[1;33m\u001b[0m\u001b[0m\n\u001b[0;32m      7\u001b[0m \u001b[1;31m#     tokens = tokenizer.encode(f\"{word_toks[words]}\", return_tensors='pt')\u001b[0m\u001b[1;33m\u001b[0m\u001b[1;33m\u001b[0m\u001b[0m\n",
      "\u001b[1;31mTypeError\u001b[0m: 'int' object is not iterable"
     ]
    }
   ],
   "source": [
    "# pass all words through BERT's pretrained model\n",
    "# pass all sentences through BERT's pretrained model\n",
    "\n",
    "# redundant tokenization \n",
    "for len(word_toks):\n",
    "    print(word_toks[word])\n",
    "#     tokens = tokenizer.encode(f\"{word_toks[words]}\", return_tensors='pt')"
   ]
  },
  {
   "cell_type": "code",
   "execution_count": null,
   "metadata": {},
   "outputs": [],
   "source": []
  },
  {
   "cell_type": "code",
   "execution_count": null,
   "metadata": {},
   "outputs": [],
   "source": []
  }
 ],
 "metadata": {
  "kernelspec": {
   "display_name": "Python 3",
   "language": "python",
   "name": "python3"
  },
  "language_info": {
   "codemirror_mode": {
    "name": "ipython",
    "version": 3
   },
   "file_extension": ".py",
   "mimetype": "text/x-python",
   "name": "python",
   "nbconvert_exporter": "python",
   "pygments_lexer": "ipython3",
   "version": "3.6.5"
  }
 },
 "nbformat": 4,
 "nbformat_minor": 2
}
